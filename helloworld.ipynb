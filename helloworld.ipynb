{
 "cells": [
  {
   "cell_type": "code",
   "execution_count": 1,
   "id": "d9f62161",
   "metadata": {},
   "outputs": [
    {
     "name": "stdout",
     "output_type": "stream",
     "text": [
      "hello world!\n"
     ]
    }
   ],
   "source": [
    "print('hello world!')"
   ]
  },
  {
   "cell_type": "code",
<<<<<<< HEAD
   "execution_count": 3,
   "id": "c0b52061",
   "metadata": {},
   "outputs": [
    {
     "name": "stdout",
     "output_type": "stream",
     "text": [
      "addition of a and b is  7\n"
     ]
    }
   ],
   "source": [
    "a,b = 3,4\n",
    "print('addition of a and b is ',a+b)"
   ]
  },
  {
   "cell_type": "code",
   "execution_count": 4,
   "id": "db01217d",
   "metadata": {},
   "outputs": [
    {
     "name": "stdout",
     "output_type": "stream",
     "text": [
      "ok for now everything working fine.\n"
     ]
    }
   ],
   "source": [
    "print('ok for now everything working fine.')"
   ]
  },
  {
   "cell_type": "code",
   "execution_count": null,
   "id": "d5b8413d",
=======
   "execution_count": null,
   "id": "c0b52061",
>>>>>>> parent of ea99300 (added a 2 no addition code)
   "metadata": {},
   "outputs": [],
   "source": []
  }
 ],
 "metadata": {
  "kernelspec": {
   "display_name": "Python 3 (ipykernel)",
   "language": "python",
   "name": "python3"
  },
  "language_info": {
   "codemirror_mode": {
    "name": "ipython",
    "version": 3
   },
   "file_extension": ".py",
   "mimetype": "text/x-python",
   "name": "python",
   "nbconvert_exporter": "python",
   "pygments_lexer": "ipython3",
   "version": "3.10.1"
  }
 },
 "nbformat": 4,
 "nbformat_minor": 5
}
