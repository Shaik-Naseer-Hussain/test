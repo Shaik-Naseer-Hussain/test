{
 "cells": [
  {
   "cell_type": "code",
   "execution_count": 2,
   "id": "539231a0",
   "metadata": {},
   "outputs": [
    {
     "name": "stdout",
     "output_type": "stream",
     "text": [
      "Type 'yes' if you are hungry else 'no'no\n",
      "go and play outside\n"
     ]
    }
   ],
   "source": [
    "hungry = input((\"Type 'yes' if you are hungry else 'no'\"))\n",
    "if hungry == \"yes\":\n",
    "    print(\"go and eat your food\")\n",
    "else:\n",
    "    print(\"go and play outside\")"
   ]
  },
  {
   "cell_type": "code",
<<<<<<< HEAD
   "execution_count": 3,
   "id": "049beb52",
   "metadata": {},
   "outputs": [
    {
     "name": "stdout",
     "output_type": "stream",
     "text": [
      "hello world!\n"
     ]
    }
   ],
   "source": [
    "print('hello world!')"
   ]
  },
  {
   "cell_type": "code",
   "execution_count": 6,
   "id": "c4291f52",
=======
   "execution_count": null,
   "id": "049beb52",
>>>>>>> parent of 57850c3 (added hello world)
   "metadata": {},
   "outputs": [
    {
     "name": "stdout",
     "output_type": "stream",
     "text": [
      "nice work naseer\n"
     ]
    }
   ],
   "source": [
    "print('nice work naseer')"
   ]
  },
  {
   "cell_type": "code",
   "execution_count": null,
   "id": "7f657ccf",
   "metadata": {},
   "outputs": [],
   "source": []
  }
 ],
 "metadata": {
  "kernelspec": {
   "display_name": "Python 3 (ipykernel)",
   "language": "python",
   "name": "python3"
  },
  "language_info": {
   "codemirror_mode": {
    "name": "ipython",
    "version": 3
   },
   "file_extension": ".py",
   "mimetype": "text/x-python",
   "name": "python",
   "nbconvert_exporter": "python",
   "pygments_lexer": "ipython3",
   "version": "3.10.1"
  }
 },
 "nbformat": 4,
 "nbformat_minor": 5
}
