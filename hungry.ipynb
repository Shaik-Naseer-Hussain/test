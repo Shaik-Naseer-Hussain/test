{
 "cells": [
  {
   "cell_type": "code",
   "execution_count": 1,
   "id": "a258e98a",
   "metadata": {},
   "outputs": [
    {
     "name": "stdout",
     "output_type": "stream",
     "text": [
      "are you hungryyes\n",
      "eat pizza\n"
     ]
    }
   ],
   "source": [
    "if input('are you hungry') =='yes':\n",
    "    print('eat pizza')\n",
    "else:\n",
    "    print('do homework')"
   ]
  },
  {
   "cell_type": "code",
   "execution_count": null,
   "id": "e0c64b28",
   "metadata": {},
   "outputs": [],
   "source": []
  }
 ],
 "metadata": {
  "kernelspec": {
   "display_name": "Python 3 (ipykernel)",
   "language": "python",
   "name": "python3"
  },
  "language_info": {
   "codemirror_mode": {
    "name": "ipython",
    "version": 3
   },
   "file_extension": ".py",
   "mimetype": "text/x-python",
   "name": "python",
   "nbconvert_exporter": "python",
   "pygments_lexer": "ipython3",
   "version": "3.10.1"
  }
 },
 "nbformat": 4,
 "nbformat_minor": 5
}
